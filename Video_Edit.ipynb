{
 "cells": [
  {
   "cell_type": "code",
   "execution_count": null,
   "id": "bbb6e3f2-2bd6-4ec0-a0fa-7846b823dce4",
   "metadata": {},
   "outputs": [],
   "source": []
  },
  {
   "cell_type": "code",
   "execution_count": null,
   "id": "1bbc3018-7fa9-4a72-bb5f-1d9f61a18d83",
   "metadata": {},
   "outputs": [],
   "source": [
    "# Video Editing\n",
    "# pip install moviepy\n",
    "\n",
    "from moviepy.editor import *\n",
    "\n",
    "# Triming the video\n",
    "clip_1 = VideoFileClip(\"sample_video.mp4\").subclip(40, 50)\n",
    "clip_2 = VideoFileClip(\"sample_video.mp4\").subclip(68, 91)\n",
    "final_clip = concatenate_videoclips([clip_1, clip_2])\n",
    "final_clip.write_videofile(\"output.mp4\")"
   ]
  },
  {
   "cell_type": "code",
   "execution_count": null,
   "id": "697fdfa6-2da3-49af-8e8c-5f1e90e1833a",
   "metadata": {},
   "outputs": [],
   "source": [
    "# Adding VFX\n",
    "clip_1 = (VideoFileClip(\"sample_video.mp4\").subclip(40, 50).fx(vfx.colorx, 1.2).fx(vfx.lum_contrast, 0, 30, 100))\n",
    "clip_2 = (VideoFileClip(\"sample_video.mp4\").subclip(68, 91).fx(vfx.invert_colors))\n",
    "final_clip = concatenate_videoclips([clip_1, clip_2])\n",
    "final_clip.write_videofile(\"output.mp4\")"
   ]
  },
  {
   "cell_type": "code",
   "execution_count": null,
   "id": "cba0e6dd-7390-4d74-a45c-187656d36a13",
   "metadata": {},
   "outputs": [],
   "source": [
    "# Add Audio to Video\n",
    "clip = VideoFileClip(\"sample_video.mp4\")"
   ]
  },
  {
   "cell_type": "code",
   "execution_count": null,
   "id": "ba557bf6-fed9-44ca-85ea-f16a78c2daba",
   "metadata": {},
   "outputs": [],
   "source": [
    "# Add audio to only first 5 sec\n",
    "clip = clip.subclip(0, 5)\n",
    "audioclip = AudioFileClip(\"audio.mp3\").subclip(0, 5)\n",
    "videoclip = clip.set_audio(audioclip)\n",
    "final_clip.write_videofile(\"output.mp4\")"
   ]
  }
 ],
 "metadata": {
  "kernelspec": {
   "display_name": "Python 3 (ipykernel)",
   "language": "python",
   "name": "python3"
  },
  "language_info": {
   "codemirror_mode": {
    "name": "ipython",
    "version": 3
   },
   "file_extension": ".py",
   "mimetype": "text/x-python",
   "name": "python",
   "nbconvert_exporter": "python",
   "pygments_lexer": "ipython3",
   "version": "3.7.11"
  }
 },
 "nbformat": 4,
 "nbformat_minor": 5
}
